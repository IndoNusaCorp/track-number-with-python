{
 "cells": [
  {
   "cell_type": "code",
   "execution_count": 1,
   "metadata": {},
   "outputs": [
    {
     "name": "stdout",
     "output_type": "stream",
     "text": [
      "your phone number is  +63 951 177 8365\n",
      "This sim located in  ('Asia/Manila',)\n",
      "Smart\n",
      "\n"
     ]
    }
   ],
   "source": [
    "import phonenumbers\n",
    "#Import modules\n",
    "#Carrier for sim type, time zone for location \n",
    "from phonenumbers import carrier,geocoder,timezone\n",
    "\n",
    "#First condition\n",
    "#Input must be of string type and country code must be added before phone number.\n",
    "number = input('Enter a number with countery code +_ _ : ')\n",
    "#We use parse for all detail of phone number\n",
    "phone = phonenumbers.parse(number)\n",
    "time = timezone.time_zones_for_number(phone,)\n",
    "car = carrier.name_for_number(phone,'en') #Carrier for service provider\n",
    "reg = geocoder.description_for_number(phone,'eng') #Mobile number registration name\n",
    "\n",
    "\n",
    "print('your phone number is ',number)\n",
    "print('This sim located in ',time)\n",
    "print(car)\n",
    "print(reg)"
   ]
  }
 ],
 "metadata": {
  "kernelspec": {
   "display_name": ".venv",
   "language": "python",
   "name": "python3"
  },
  "language_info": {
   "codemirror_mode": {
    "name": "ipython",
    "version": 3
   },
   "file_extension": ".py",
   "mimetype": "text/x-python",
   "name": "python",
   "nbconvert_exporter": "python",
   "pygments_lexer": "ipython3",
   "version": "3.9.6"
  }
 },
 "nbformat": 4,
 "nbformat_minor": 2
}
